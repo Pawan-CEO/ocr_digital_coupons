{
 "cells": [
  {
   "cell_type": "code",
   "execution_count": 1,
   "id": "c534540e",
   "metadata": {},
   "outputs": [],
   "source": [
    "import pandas as pd\n",
    "import numpy as np\n",
    "\n",
    "from glob import glob\n",
    "from tqdm.notebook import tqdm\n",
    "\n",
    "import matplotlib.pyplot as plt\n",
    "from PIL import Image\n",
    "# import mpldatacursor\n",
    "\n",
    "from PIL import Image\n",
    "from PyPDF2 import PdfReader\n",
    "from matplotlib.widgets import Cursor, SpanSelector\n",
    "\n",
    "import pytesseract\n",
    "import easyocr\n",
    "import keras_ocr\n",
    "from keras_ocr.tools import drawAnnotations\n",
    "import re\n",
    "import os\n",
    "plt.style.use('ggplot')\n",
    "import sys\n",
    "import warnings\n",
    "warnings.filterwarnings(\"ignore\")"
   ]
  },
  {
   "cell_type": "code",
   "execution_count": null,
   "id": "7ee02844",
   "metadata": {},
   "outputs": [],
   "source": []
  }
 ],
 "metadata": {
  "kernelspec": {
   "display_name": "Python 3 (ipykernel)",
   "language": "python",
   "name": "python3"
  },
  "language_info": {
   "codemirror_mode": {
    "name": "ipython",
    "version": 3
   },
   "file_extension": ".py",
   "mimetype": "text/x-python",
   "name": "python",
   "nbconvert_exporter": "python",
   "pygments_lexer": "ipython3",
   "version": "3.10.9"
  }
 },
 "nbformat": 4,
 "nbformat_minor": 5
}
